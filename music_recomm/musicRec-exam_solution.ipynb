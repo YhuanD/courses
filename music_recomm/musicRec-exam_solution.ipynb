{
 "cells": [
  {
   "cell_type": "markdown",
   "metadata": {},
   "source": [
    "<center><h1>七月在线音乐推荐系统项目特训营结业考试参考答案</h1></center>"
   ]
  },
  {
   "cell_type": "markdown",
   "metadata": {},
   "source": [
    "By 魏天保"
   ]
  },
  {
   "cell_type": "markdown",
   "metadata": {},
   "source": [
    "## 一、理论题（30分）"
   ]
  },
  {
   "cell_type": "markdown",
   "metadata": {},
   "source": [
    "#### 1、协同过滤算法是指基于用户行为数据设计的推荐算法，常见的有UserCF和ItemCF两种，请你分别用一句话概括这两种算法的核心思想。（6分）"
   ]
  },
  {
   "cell_type": "markdown",
   "metadata": {},
   "source": [
    "答案：UserCF的核心思想是：给用户推荐和他兴趣相似的其他用户喜欢的物品。ItemCF的核心思想是：给用户推荐和其过去感兴趣的物品相似的物品。"
   ]
  },
  {
   "cell_type": "markdown",
   "metadata": {},
   "source": [
    "#### 2、 矩阵分解属于协同过滤算法吗？（4分）"
   ]
  },
  {
   "cell_type": "markdown",
   "metadata": {},
   "source": [
    "A 属于\n",
    "\n",
    "B 不属于"
   ]
  },
  {
   "cell_type": "markdown",
   "metadata": {},
   "source": [
    "答案：A"
   ]
  },
  {
   "cell_type": "markdown",
   "metadata": {},
   "source": [
    "#### 3、分别用一句话概括用户冷启动和物品冷启动的含义。（5分）"
   ]
  },
  {
   "cell_type": "markdown",
   "metadata": {},
   "source": [
    "答案：用户冷启动，即如何给新用户做个性化推荐。物品冷启动，即如何将新的物品推荐给对它感兴趣的用户。"
   ]
  },
  {
   "cell_type": "markdown",
   "metadata": {},
   "source": [
    "#### 4、分别说出一种用户冷启动和物品冷启动的解决方案。（5分）"
   ]
  },
  {
   "cell_type": "markdown",
   "metadata": {},
   "source": [
    "答案：利用用户注册信息可以解决用户冷启动的问题。利用物品内容信息可以解决物品冷启动的问题。"
   ]
  },
  {
   "cell_type": "markdown",
   "metadata": {},
   "source": [
    "#### 5、请说出推荐系统中评分预测和TopN推荐的评价指标，各列举两种。（4分）"
   ]
  },
  {
   "cell_type": "markdown",
   "metadata": {},
   "source": [
    "答案：评分预测：RMSE、MAE；TopN推荐：Precision、Recall。"
   ]
  },
  {
   "cell_type": "markdown",
   "metadata": {},
   "source": [
    "#### 6、 写出RMSE的计算公式，并说明公式中每个变量的含义。（6分）"
   ]
  },
  {
   "cell_type": "markdown",
   "metadata": {},
   "source": [
    "$$RMSE=\\sqrt{\\frac{1}{m}{\\sum_{i=1}^{m}(y_i-\\hat y_i)^2}}$$\n",
    "\n",
    "m是测试集样本个数，$y_i$是第 i 个测试样本真实值，$\\hat y_i$是第 i 个测试样本预测值"
   ]
  },
  {
   "cell_type": "markdown",
   "metadata": {},
   "source": [
    "## 二、代码题（70分）"
   ]
  },
  {
   "cell_type": "markdown",
   "metadata": {},
   "source": [
    "#### 7、假设你昨天看了 Indiana Jones and the Last Crusade (1989) 这部电影，请使用 surprise 中的 KNNBaseline 为自己推荐5部相似的电影。（10分）"
   ]
  },
  {
   "cell_type": "markdown",
   "metadata": {},
   "source": [
    "- 使用surprise内置的数据集：ml-100k\n",
    "- 打印出这5部电影的名称"
   ]
  },
  {
   "cell_type": "code",
   "execution_count": 1,
   "metadata": {},
   "outputs": [
    {
     "name": "stdout",
     "output_type": "stream",
     "text": [
      "Estimating biases using als...\n",
      "Computing the pearson_baseline similarity matrix...\n",
      "Done computing similarity matrix.\n",
      "\n",
      "为你推荐如下5部电影:\n",
      "Raiders of the Lost Ark (1981)\n",
      "Back to the Future (1985)\n",
      "Return of the Jedi (1983)\n",
      "Independence Day (ID4) (1996)\n",
      "Star Wars (1977)\n"
     ]
    }
   ],
   "source": [
    "import os\n",
    "from surprise import KNNBaseline\n",
    "from surprise import Dataset\n",
    "\n",
    "\n",
    "def read_item_names():\n",
    "    \"\"\"\n",
    "    获取电影名到电影id 和 电影id到电影名的映射\n",
    "    \"\"\"\n",
    "\n",
    "    file_name = (os.path.expanduser('~') + '/.surprise_data/ml-100k/ml-100k/u.item')\n",
    "    rid_to_name = {}\n",
    "    name_to_rid = {}\n",
    "    with open(file_name, 'r', encoding='ISO-8859-1') as f:\n",
    "        for line in f:\n",
    "            line = line.split('|')\n",
    "            rid_to_name[line[0]] = line[1]\n",
    "            name_to_rid[line[1]] = line[0]\n",
    "\n",
    "    return rid_to_name, name_to_rid\n",
    "\n",
    "data = Dataset.load_builtin('ml-100k')\n",
    "trainset = data.build_full_trainset()\n",
    "sim_options = {'name': 'pearson_baseline', 'user_based': False}\n",
    "algo = KNNBaseline(sim_options=sim_options)\n",
    "algo.fit(trainset)\n",
    "\n",
    "rid_to_name, name_to_rid = read_item_names()\n",
    "raw_id = name_to_rid['Indiana Jones and the Last Crusade (1989)']\n",
    "inner_id = algo.trainset.to_inner_iid(raw_id)\n",
    "\n",
    "neighbors = algo.get_neighbors(inner_id, k=5)\n",
    "neighbors = (algo.trainset.to_raw_iid(inner_id) for inner_id in neighbors)            \n",
    "neighbors = (rid_to_name[rid] for rid in neighbors)\n",
    "                       \n",
    "print('\\n为你推荐如下5部电影:')\n",
    "for movie in neighbors:\n",
    "    print(movie)"
   ]
  },
  {
   "cell_type": "markdown",
   "metadata": {},
   "source": [
    "#### 8、加载surprise内置的 movielens 1m 数据集，取每个用户最后一次观影的评分记录，存在变量test中，并展示test的前5条记录（10分）"
   ]
  },
  {
   "cell_type": "markdown",
   "metadata": {},
   "source": [
    "- 加载数据集：2分\n",
    "- 获取最后一次观影记录：6分\n",
    "- 展示任意5个用户的最后一条评分记录：2分"
   ]
  },
  {
   "cell_type": "code",
   "execution_count": 2,
   "metadata": {},
   "outputs": [
    {
     "data": {
      "text/html": [
       "<div>\n",
       "<style>\n",
       "    .dataframe thead tr:only-child th {\n",
       "        text-align: right;\n",
       "    }\n",
       "\n",
       "    .dataframe thead th {\n",
       "        text-align: left;\n",
       "    }\n",
       "\n",
       "    .dataframe tbody tr th {\n",
       "        vertical-align: top;\n",
       "    }\n",
       "</style>\n",
       "<table border=\"1\" class=\"dataframe\">\n",
       "  <thead>\n",
       "    <tr style=\"text-align: right;\">\n",
       "      <th></th>\n",
       "      <th>userid</th>\n",
       "      <th>itemid</th>\n",
       "      <th>ratings</th>\n",
       "      <th>timestamp</th>\n",
       "    </tr>\n",
       "  </thead>\n",
       "  <tbody>\n",
       "    <tr>\n",
       "      <th>480473</th>\n",
       "      <td>2947</td>\n",
       "      <td>1732</td>\n",
       "      <td>3.0</td>\n",
       "      <td>1037992675</td>\n",
       "    </tr>\n",
       "    <tr>\n",
       "      <th>474348</th>\n",
       "      <td>2910</td>\n",
       "      <td>3666</td>\n",
       "      <td>2.0</td>\n",
       "      <td>1039660166</td>\n",
       "    </tr>\n",
       "    <tr>\n",
       "      <th>53131</th>\n",
       "      <td>349</td>\n",
       "      <td>553</td>\n",
       "      <td>3.0</td>\n",
       "      <td>1046023737</td>\n",
       "    </tr>\n",
       "    <tr>\n",
       "      <th>998335</th>\n",
       "      <td>6034</td>\n",
       "      <td>942</td>\n",
       "      <td>5.0</td>\n",
       "      <td>956712388</td>\n",
       "    </tr>\n",
       "    <tr>\n",
       "      <th>998435</th>\n",
       "      <td>6035</td>\n",
       "      <td>3146</td>\n",
       "      <td>1.0</td>\n",
       "      <td>956713640</td>\n",
       "    </tr>\n",
       "  </tbody>\n",
       "</table>\n",
       "</div>"
      ],
      "text/plain": [
       "       userid itemid  ratings   timestamp\n",
       "480473   2947   1732      3.0  1037992675\n",
       "474348   2910   3666      2.0  1039660166\n",
       "53131     349    553      3.0  1046023737\n",
       "998335   6034    942      5.0   956712388\n",
       "998435   6035   3146      1.0   956713640"
      ]
     },
     "execution_count": 2,
     "metadata": {},
     "output_type": "execute_result"
    }
   ],
   "source": [
    "import pandas as pd\n",
    "from surprise import Dataset\n",
    "data = Dataset.load_builtin('ml-1m')\n",
    "df = pd.DataFrame(data.raw_ratings,columns=['userid','itemid','ratings','timestamp'])\n",
    "test = df.sort_values('timestamp').groupby('userid').tail(1)\n",
    "test.head()"
   ]
  },
  {
   "cell_type": "markdown",
   "metadata": {},
   "source": [
    "#### 9、展示 test 中前5个用户的用户ID和观看的电影名称（10分）"
   ]
  },
  {
   "cell_type": "code",
   "execution_count": 3,
   "metadata": {
    "scrolled": false
   },
   "outputs": [
    {
     "name": "stdout",
     "output_type": "stream",
     "text": [
      "2947 Big Lebowski, The (1998)\n",
      "2910 Retro Puppetmaster (1999)\n",
      "349 Tombstone (1993)\n",
      "6034 Laura (1944)\n",
      "6035 Deuce Bigalow: Male Gigolo (1999)\n"
     ]
    }
   ],
   "source": [
    "import os\n",
    "import pandas as pd\n",
    "file_name = (os.path.expanduser('~') + '/.surprise_data/ml-1m/ml-1m/movies.dat')\n",
    "movies = pd.read_table(file_name,sep='::',names=['movieid','movie_name','_'],engine='python')\n",
    "mid2name = dict(movies[['movieid','movie_name']].values)\n",
    "for u,i in test.head()[['userid','itemid']].values:\n",
    "    print(u,mid2name[int(i)])"
   ]
  },
  {
   "cell_type": "markdown",
   "metadata": {},
   "source": [
    "#### 8、请使用gensim库完成电影序列建模
