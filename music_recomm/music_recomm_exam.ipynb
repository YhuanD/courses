{
 "cells": [
  {
   "cell_type": "markdown",
   "metadata": {},
   "source": [
    "## 七月在线音乐推荐系统项目特训营结业考试\n",
    "#### 考试说明:\n",
    "- 起止时间：<font color=red><b>2020年1月23日10:00 - 2020年1月23日22:00</b></font>，<b>逾期不接受补考</b>\n",
    "- 考试提交方式：<font color=red><b> 将试卷下载到本地作答</b></font>，本地作答完成后将文件命名为<font color=red><b>\"姓名_学号\"</b></font>并上传到：http://47.93.208.249:9925/tree/0.Teacher/Exam/Stage1 \n",
    "- 注意事项：为确保同学们真正了解自身对这次课程的掌握程度，<font color=red><b>请勿翻阅抄袭，移动，更改</b></font>其它同学的试卷，如发现按0分处理。\n",
    "- 请同学在下方同学姓名处填写自己的姓名，批改人和最终得分处不用填写，试卷总分为100分。"
   ]
  },
  {
   "cell_type": "markdown",
   "metadata": {},
   "source": [
    "- 同学姓名:lunature\n",
    "- 批改人：魏天保 \n",
    "- 最终得分: 90"
   ]
  },
  {
   "cell_type": "markdown",
   "metadata": {},
   "source": [
    "<center><h1>####答卷开始####</h1></center>"
   ]
  },
  {
   "cell_type": "markdown",
   "metadata": {},
   "source": [
    "## 一、理论题（30分）"
   ]
  },
  {
   "cell_type": "markdown",
   "metadata": {},
   "source": [
    "#### 1、协同过滤算法是指基于用户行为数据设计的推荐算法，常见的有UserCF和ItemCF两种，请你分别用一句话概括这两种算法的核心思想。（6分）"
   ]
  },
  {
   "cell_type": "code",
   "execution_count": null,
   "metadata": {
    "collapsed": true
   },
   "outputs": [],
   "source": [
    "UserCF是指找出与某个用户具有相似兴趣的用户，计算的是用户间的相似度。\n",
    "ItemCF计算的是item间的相似度，是找出与该item相似度最高的item"
   ]
  },
  {
   "cell_type": "markdown",
   "metadata": {},
   "source": [
    "<font color=red>-2,没有说明如何根据相似度推荐</font>"
   ]
  },
  {
   "cell_type": "markdown",
   "metadata": {},
   "source": [
    "#### 2、 矩阵分解属于协同过滤算法吗？（4分）"
   ]
  },
  {
   "cell_type": "markdown",
   "metadata": {},
   "source": [
    "A 属于\n",
    "\n",
    "B 不属于"
   ]
  },
  {
   "cell_type": "code",
   "execution_count": null,
   "metadata": {
    "collapsed": true
   },
   "outputs": [],
   "source": [
    "A"
   ]
  },
  {
   "cell_type": "markdown",
   "metadata": {},
   "source": [
    "#### 3、分别用一句话概括用户冷启动和物品冷启动的含义。（5分）"
   ]
  },
  {
   "cell_type": "code",
   "execution_count": null,
   "metadata": {
    "collapsed": true
   },
   "outputs": [],
   "source": [
    "用户冷启动指的是某些用户的相关信息过少从而无法找到与其相似的用户，比如新注册的用户。\n",
    "物品冷启动指的是某一个物品的相关信息过少，比如新发布的歌曲，还没有人听过，或者一些听众很少的冷门歌曲。"
   ]
  },
  {
   "cell_type": "markdown",
   "metadata": {},
   "source": [
    "#### 4、分别说出一种用户冷启动和物品冷启动的解决方案。（5分）"
   ]
  },
  {
   "cell_type": "code",
   "execution_count": null,
   "metadata": {
    "collapsed": true
   },
   "outputs": [],
   "source": [
    "如果新注册的用户没有任何相关信息，可以推荐热门物品。\n",
    "如果物品的相关信息过少可以推荐类别相似度高的物品，将粒度从物品放大到类别。"
   ]
  },
  {
   "cell_type": "markdown",
   "metadata": {},
   "source": [
    "#### 5、请说出推荐系统中评分预测和TopN推荐的评价指标，各列举两种。（4分）"
   ]
  },
  {
   "cell_type": "code",
   "execution_count": null,
   "metadata": {
    "collapsed": true
   },
   "outputs": [],
   "source": [
    "评分预测用回归模型的评价指标，如MSE，RMSE；\n",
    "topN推荐的评价指标有准确率，召回率等。"
   ]
  },
  {
   "cell_type": "markdown",
   "metadata": {},
   "source": [
    "#### 6、 写出RMSE的计算公式，并说明公式中每个变量的含义。（6分）"
   ]
  },
  {
   "cell_type": "code",
   "execution_count": null,
   "metadata": {
    "collapsed": true
   },
   "outputs": [],
   "source": [
    "RMSE为均方根误差，公式为sqrt(mean((y_r-y_p)^2)),y_r为实际值，y_p为预测值。"
   ]
  },
  {
   "cell_type": "markdown",
   "metadata": {},
   "source": [
    "## 二、代码题（70分）"
   ]
  },
  {
   "cell_type": "markdown",
   "metadata": {},
   "source": [
    "#### 7、假设你昨天看了 Indiana Jones and the Last Crusade (1989) 这部电影，请使用 surprise 中的 KNNBaseline 为自己推荐5部相似的电影。（10分）"
   ]
  },
  {
   "cell_type": "markdown",
   "metadata": {},
   "source": [
    "- 使用surprise内置的数据集：ml-100k\n",
    "- 打印出这5部电影的名称"
   ]
  },
  {
   "cell_type": "code",
   "execution_count": 3,
   "metadata": {},
   "outputs": [],
   "source": [
    "from surprise import Dataset\n",
    "data = Dataset.load_builtin('ml-100k')"
   ]
  },
  {
   "cell_type": "code",
   "execution_count": 10,
   "metadata": {},
   "outputs": [
    {
     "name": "stdout",
     "output_type": "stream",
     "text": [
      "Estimating biases using als...\n",
      "Computing the pearson_baseline similarity matrix...\n",
      "Done computing similarity matrix.\n"
     ]
    },
    {
     "data": {
      "text/plain": [
       "<surprise.prediction_algorithms.knns.KNNBaseline at 0x10bcb05f8>"
      ]
     },
     "execution_count": 10,
     "metadata": {},
     "output_type": "execute_result"
    }
   ],
   "source": [
    "from surprise import KNNBaseline\n",
    "trainset = data.build_full_trainset()\n",
    "sim_options = {'name': 'pearson_baseline', 'user_based': False}\n",
    "algo = KNNBaseline(sim_options=sim_options)\n",
    "algo.fit(trainset)"
   ]
  },
  {
   "cell_type": "code",
   "execution_count": 6,
   "metadata": {},
   "outputs": [],
   "source": [
    "import os\n",
    "def read_item_names():\n",
    "    \"\"\"\n",
    "    获取电影名到电影id 和 电影id到电影名的映射\n",
    "    \"\"\"\n",
    "\n",
    "    file_name = (os.path.expanduser('~') + '/.surprise_data/ml-100k/ml-100k/u.item')\n",
    "    rid_to_name = {}\n",
    "    name_to_rid = {}\n",
    "    with open(file_name, 'r', encoding='ISO-8859-1') as f:\n",
    "        for line in f:\n",
    "            line = line.split('|')\n",
    "            rid_to_name[line[0]] = line[1]\n",
    "            name_to_rid[line[1]] = line[0]\n",
    "\n",
    "    return rid_to_name, name_to_rid"
   ]
  },
  {
   "cell_type": "code",
   "execution_count": 7,
   "metadata": {},
   "outputs": [],
   "source": [
    "rid_to_name, name_to_rid = read_item_names()"
   ]
  },
  {
   "cell_type": "code",
   "execution_count": 11,
   "metadata": {},
   "outputs": [
    {
     "name": "stdout",
     "output_type": "stream",
     "text": [
      "The 5 nearest neighbors of Toy Story are:\n",
      "Raiders of the Lost Ark (1981)\n",
      "Back to the Future (1985)\n",
      "Return of the Jedi (1983)\n",
      "Independence Day (ID4) (1996)\n",
      "Star Wars (1977)\n"
     ]
    }
   ],
   "source": [
    "toy_story_raw_id = name_to_rid['Indiana Jones and the Last Crusade (1989)']\n",
    "toy_story_inner_id = algo.trainset.to_inner_iid(toy_story_raw_id)\n",
    "\n",
    "# 找到最近的5个邻居\n",
    "toy_story_neighbors = algo.get_neighbors(toy_story_inner_id, k=5)\n",
    "\n",
    "# 从近邻的id映射回电影名称\n",
    "toy_story_neighbors = (algo.trainset.to_raw_iid(inner_id) for inner_id in toy_story_neighbors)            \n",
    "toy_story_neighbors = (rid_to_name[rid] for rid in toy_story_neighbors)\n",
    "                       \n",
    "print('The 5 nearest neighbors of Toy Story are:')\n",
    "for movie in toy_story_neighbors:\n",
    "    print(movie)"
   ]
  },
  {
   "attachments": {
    "image.png": {
     "image/png": "[encoded data removed]"
    }
   },
   "cell_type": "markdown",
   "metadata": {},
   "source": [
    "<font color=red>要细心哦</font>\n",
    "\n",
    "![image.png](attachment:image.png)"
   ]
  },
  {
   "cell_type": "markdown",
   "metadata": {},
   "source": [
    "#### 8、加载surprise内置的 movielens 1m 数据集，取每个用户最后一次观影的评分记录，存在变量test中，并展示test的前5条记录（10分）"
   ]
  },
  {
   "cell_type": "markdown",
   "metadata": {},
   "source": [
    "- 加载数据集：2分\n",
    "- 获取最后一次观影记录：6分\n",
    "- 展示任意5个用户的最后一条评分记录：2分"
   ]
  },
  {
   "cell_type": "code",
   "execution_count": 13,
   "metadata": {},
   "outputs": [
    {
     "name": "stdout",
     "output_type": "stream",
     "text": [
      "Dataset ml-1m could not be found. Do you want to download it? [Y/n] y\n",
      "Trying to download dataset from http://files.grouplens.org/datasets/movielens/ml-1m.zip...\n",
      "Done! Dataset ml-1m has been saved to /Users/Juan/.surprise_data/ml-1m\n"
     ]
    }
   ],
   "source": [
    "from surprise import Dataset\n",
    "data_m1 = Dataset.load_builtin('ml-1m')"
   ]
  },
  {
   "cell_type": "code",
   "execution_count": 28,
   "metadata": {},
   "outputs": [
    {
     "name": "stderr",
     "output_type": "stream",
     "text": [
      "/Library/Frameworks/Python.framework/Versions/3.6/lib/python3.6/site-packages/ipykernel_launcher.py:3: ParserWarning: Falling back to the 'python' engine because the 'c' engine does not support regex separators (separators > 1 char and different from '\\s+' are interpreted as regex); you can avoid this warning by specifying engine='python'.\n",
      "  This is separate from the ipykernel package so we can avoid doing imports until\n"
     ]
    }
   ],
   "source": [
    "import pandas as pd\n",
    "file_name = (os.path.expanduser('~') + '/.surprise_data/ml-1m/ml-1m/ratings.dat')\n",
    "test_all = pd.read_csv(file_name,sep='::',header=None,names=['UserID','MovieID','Rating','Timestamp'])"
   ]
  },
  {
   "cell_type": "code",
   "execution_count": 32,
   "metadata": {},
   "outputs": [],
   "source": [
    "test = test_all.iloc[test_all.groupby(['UserID'])['Timestamp'].idxmax()[:10]].reset_index(drop=True)"
   ]
  },
  {
   "cell_type": "code",
   "execution_count": 33,
   "metadata": {
    "scrolled": true
   },
   "outputs": [
    {
     "data": {
      "text/html": [
       "<div>\n",
       "<style scoped>\n",
       "    .dataframe tbody tr th:only-of-type {\n",
       "        vertical-align: middle;\n",
       "    }\n",
       "\n",
       "    .dataframe tbody tr th {\n",
       "        vertical-align: top;\n",
       "    }\n",
       "\n",
       "    .dataframe thead th {\n",
       "        text-align: right;\n",
       "    }\n",
       "</style>\n",
       "<table border=\"1\" class=\"dataframe\">\n",
       "  <thead>\n",
       "    <tr style=\"text-align: right;\">\n",
       "      <th></th>\n",
       "      <th>UserID</th>\n",
       "      <th>MovieID</th>\n",
       "      <th>Rating</th>\n",
       "      <th>Timestamp</th>\n",
       "    </tr>\n",
       "  </thead>\n",
       "  <tbody>\n",
       "    <tr>\n",
       "      <th>0</th>\n",
       "      <td>1</td>\n",
       "      <td>48</td>\n",
       "      <td>5</td>\n",
       "      <td>978824351</td>\n",
       "    </tr>\n",
       "    <tr>\n",
       "      <th>1</th>\n",
       "      <td>2</td>\n",
       "      <td>1687</td>\n",
       "      <td>3</td>\n",
       "      <td>978300174</td>\n",
       "    </tr>\n",
       "    <tr>\n",
       "      <th>2</th>\n",
       "      <td>3</td>\n",
       "      <td>2081</td>\n",
       "      <td>4</td>\n",
       "      <td>978298504</td>\n",
       "    </tr>\n",
       "    <tr>\n",
       "      <th>3</th>\n",
       "      <td>4</td>\n",
       "      <td>2951</td>\n",
       "      <td>4</td>\n",
       "      <td>978294282</td>\n",
       "    </tr>\n",
       "    <tr>\n",
       "      <th>4</th>\n",
       "      <td>5</td>\n",
       "      <td>288</td>\n",
       "      <td>2</td>\n",
       "      <td>978246585</td>\n",
       "    </tr>\n",
       "  </tbody>\n",
       "</table>\n",
       "</div>"
      ],
      "text/plain": [
       "   UserID  MovieID  Rating  Timestamp\n",
       "0       1       48       5  978824351\n",
       "1       2     1687       3  978300174\n",
       "2       3     2081       4  978298504\n",
       "3       4     2951       4  978294282\n",
       "4       5      288       2  978246585"
      ]
     },
     "execution_count": 33,
     "metadata": {},
     "output_type": "execute_result"
    }
   ],
   "source": [
    "test[:5]"
   ]
  },
  {
   "cell_type": "markdown",
   "metadata": {},
   "source": [
    "<font color=red>-1，test中应该存的是每个用户最后一次的观影记录，而不是其中的10个</font>"
   ]
  },
  {
   "cell_type": "markdown",
   "metadata": {},
   "source": [
    "#### 9、展示 test 中前5个用户的用户ID和观看的电影名称（10分）"
   ]
  },
  {
   "cell_type": "code",
   "execution_count": 37,
   "metadata": {},
   "outputs": [],
   "source": [
    "import os\n",
    "def read_item_names():\n",
    "    \"\"\"\n",
    "    获取电影名到电影id 和 电影id到电影名的映射\n",
    "    \"\"\"\n",
    "\n",
    "    file_name = (os.path.expanduser('~') + '/.surprise_data/ml-1m/ml-1m/movies.dat')\n",
    "    rid_to_name = {}\n",
    "    name_to_rid = {}\n",
    "    with open(file_name, 'r', encoding='ISO-8859-1') as f:\n",
    "        for line in f:\n",
    "            line = line.split('::')\n",
    "            rid_to_name[line[0]] = line[1]\n",
    "            name_to_rid[line[1]] = line[0]\n",
    "\n",
    "    return rid_to_name, name_to_rid"
   ]
  },
  {
   "cell_type": "code",
   "execution_count": 38,
   "metadata": {},
   "outputs": [],
   "source": [
    "id_to_name, name_to_id = read_item_names()"
   ]
  },
  {
   "cell_type": "code",
   "execution_count": 41,
   "metadata": {},
   "outputs": [],
   "source": [
    "test['movie_name'] = test['UserID'][:10].apply(lambda x: id_to_name[str(x)])"
   ]
  },
  {
   "cell_type": "code",
   "execution_count": 43,
   "metadata": {},
   "outputs": [
    {
     "data": {
      "text/html": [
       "<div>\n",
       "<style scoped>\n",
       "    .dataframe tbody tr th:only-of-type {\n",
       "        vertical-align: middle;\n",
       "    }\n",
       "\n",
       "    .dataframe tbody tr th {\n",
       "        vertical-align: top;\n",
       "    }\n",
       "\n",
       "    .dataframe thead th {\n",
       "        text-align: right;\n",
       "    }\n",
       "</style>\n",
       "<table border=\"1\" class=\"dataframe\">\n",
       "  <thead>\n",
       "    <tr style=\"text-align: right;\">\n",
       "      <th></th>\n",
       "      <th>UserID</th>\n",
       "      <th>movie_name</th>\n",
       "    </tr>\n",
       "  </thead>\n",
       "  <tbody>\n",
       "    <tr>\n",
       "      <th>0</th>\n",
       "      <td>1</td>\n",
       "      <td>Toy Story (1995)</td>\n",
       "    </tr>\n",
       "    <tr>\n",
       "      <th>1</th>\n",
       "      <td>2</td>\n",
       "      <td>Jumanji (1995)</td>\n",
       "    </tr>\n",
       "    <tr>\n",
       "      <th>2</th>\n",
       "      <td>3</td>\n",
       "      <td>Grumpier Old Men (1995)</td>\n",
       "    </tr>\n",
       "    <tr>\n",
       "      <th>3</th>\n",
       "      <td>4</td>\n",
       "      <td>Waiting to Exhale (1995)</td>\n",
       "    </tr>\n",
       "    <tr>\n",
       "      <th>4</th>\n",
       "      <td>5</td>\n",
       "      <td>Father of the Bride Part II (1995)</td>\n",
       "    </tr>\n",
       "  </tbody>\n",
       "</table>\n",
       "</div>"
      ],
      "text/plain": [
       "   UserID                          movie_name\n",
       "0       1                    Toy Story (1995)\n",
       "1       2                      Jumanji (1995)\n",
       "2       3             Grumpier Old Men (1995)\n",
       "3       4            Waiting to Exhale (1995)\n",
       "4       5  Father of the Bride Part II (1995)"
      ]
     },
     "execution_count": 43,
     "metadata": {},
     "output_type": "execute_result"
    }
   ],
   "source": [
    "test[['UserID','movie_name']][:5]"
   ]
  },
  {
   "attachments": {
    "image.png": {
     "image/png": "[encoded data removed]"
    }
   },
   "cell_type": "markdown",
   "metadata": {},
   "source": [
    "<font color=red>-6</font>\n",
    "\n",
    "![image.png](attachment:image.png)"
   ]
  },
  {
   "cell_type": "markdown",
   "metadata": {},
   "source": [
    "#### 8、请使用gensim库完成电影序列建模，并为test中的前5个用户各推荐10部电影（25分）"
   ]
  },
  {
   "cell_type": "markdown",
   "metadata": {},
   "source": [
    "- 提示：电影序列数据 movie.seq 位于当前目录下，需要使用 pickle 加载 （4分）\n",
    "- 要求1：设置电影向量维度为15，代码中要体现模型的保存与加载，模型文件（以\"学号.model\"命名）需要一并提交 （6分）\n",
    "- 要求2：推荐时需要打印每个用户的userid和推荐的电影名称以及他们与该用户最后一次观看的电影的相似度。（15分）"
   ]
  },
  {
   "cell_type": "code",
   "execution_count": 67,
   "metadata": {},
   "outputs": [],
   "source": [
    "import multiprocessing\n",
    "import gensim\n",
    "import pickle\n",
    "movie_seq = pickle.load(open(\"movie.seq\",\"rb\"))\n",
    "\n",
    "def train_movie2vec(movie_seq, model_file):\n",
    "    cores = multiprocessing.cpu_count()\n",
    "    print(\"using all \"+str(cores)+\" cores\")\n",
    "    print(\"Training word2vec model...\")\n",
    "    model = gensim.models.Word2Vec(sentences=movie_seq, size=15, min_count=3, window=7, workers=cores)\n",
    "    print(\"Saving model...\")\n",
    "    model.save(model_file)"
   ]
  },
  {
   "cell_type": "code",
   "execution_count": 69,
   "metadata": {},
   "outputs": [
    {
     "name": "stdout",
     "output_type": "stream",
     "text": [
      "using all 4 cores\n",
      "Training word2vec model...\n",
      "Saving model...\n"
     ]
    }
   ],
   "source": [
    "model_file = \"movie2vec.model\"\n",
    "train_movie2vec(movie_seq,model_file)"
   ]
  },
  {
   "cell_type": "code",
   "execution_count": 76,
   "metadata": {},
   "outputs": [
    {
     "name": "stdout",
     "output_type": "stream",
     "text": [
      "用户 1 : 推荐电影和相似度为： \n",
      "\t Maverick (1994) 0.9612661600112915\n",
      "\t Mask, The (1994) 0.9560416340827942\n",
      "\t Breathless (1983) 0.9454922676086426\n",
      "\t How to Make an American Quilt (1995) 0.9437337517738342\n",
      "\t Drunken Master (Zui quan) (1979) 0.9423815608024597\n",
      "\t To Die For (1995) 0.940608561038971\n",
      "\t Seven (Se7en) (1995) 0.9397757053375244\n",
      "\t Hairspray (1988) 0.9380213022232056\n",
      "\t Reds (1981) 0.9319344758987427\n",
      "\t Mortal Kombat (1995) 0.9188282489776611\n",
      "\n",
      "\n",
      "用户 2 : 推荐电影和相似度为： \n",
      "\t Red Corner (1997) 0.9798393845558167\n",
      "\t Mortal Kombat: Annihilation (1997) 0.9691603779792786\n",
      "\t Man Who Knew Too Little, The (1997) 0.9441375136375427\n",
      "\t Mrs. Dalloway (1997) 0.9325694441795349\n",
      "\t Mummy, The (1932) 0.93058842420578\n",
      "\t Love Letter, The (1999) 0.9224751591682434\n",
      "\t Brandon Teena Story, The (1998) 0.9215181469917297\n",
      "\t Mummy, The (1959) 0.9213235974311829\n",
      "\t Mummy's Ghost, The (1944) 0.9154181480407715\n",
      "\t Death Wish II (1982) 0.9149956107139587\n",
      "\n",
      "\n",
      "用户 3 : 推荐电影和相似度为： \n",
      "\t Mighty Ducks, The (1992) 0.9870117902755737\n",
      "\t 101 Dalmatians (1961) 0.9763662815093994\n",
      "\t Lady and the Tramp (1955) 0.9628318548202515\n",
      "\t Muppet Christmas Carol, The (1992) 0.9438818693161011\n",
      "\t Fierce Creatures (1997) 0.933582603931427\n",
      "\t Peter Pan (1953) 0.9248144030570984\n",
      "\t Popeye (1980) 0.9238235950469971\n",
      "\t Murder at 1600 (1997) 0.9230839610099792\n",
      "\t Angel Baby (1995) 0.9191149473190308\n",
      "\t Grateful Dead (1995) 0.9164474010467529\n",
      "\n",
      "\n",
      "用户 4 : 推荐电影和相似度为： \n",
      "\t Blue Lagoon, The (1980) 0.9715838432312012\n",
      "\t Wings of Desire (Der Himmel über Berlin) (1987) 0.9665349125862122\n",
      "\t Hard 8 (a.k.a. Sydney, a.k.a. Hard Eight) (1996) 0.9289357662200928\n",
      "\t Dr. No (1962) 0.9155197739601135\n",
      "\t Third Man, The (1949) 0.912531852722168\n",
      "\t Kicking and Screaming (1995) 0.9021855592727661\n",
      "\t Juror, The (1996) 0.8998833894729614\n",
      "\t Ran (1985) 0.888248860836029\n",
      "\t Army of Darkness (1993) 0.8801212310791016\n",
      "\t Home Alone 2: Lost in New York (1992) 0.8738130331039429\n",
      "\n",
      "\n",
      "用户 5 : 推荐电影和相似度为： \n",
      "\t Days of Thunder (1990) 0.9839637279510498\n",
      "\t Nell (1994) 0.9733370542526245\n",
      "\t Nobody's Fool (1994) 0.9698668122291565\n",
      "\t Murder in the First (1995) 0.9625563621520996\n",
      "\t High Art (1998) 0.9535908102989197\n",
      "\t Only You (1994) 0.9513780474662781\n",
      "\t Cousin Bette (1998) 0.9425786137580872\n",
      "\t Rebel Without a Cause (1955) 0.9332777261734009\n",
      "\t Top Gun (1986) 0.9310953617095947\n",
      "\t Stir of Echoes (1999) 0.9141189455986023\n",
      "\n",
      "\n"
     ]
    },
    {
     "name": "stderr",
     "output_type": "stream",
     "text": [
      "/Library/Frameworks/Python.framework/Versions/3.6/lib/python3.6/site-packages/ipykernel_launcher.py:4: DeprecationWarning: Call to deprecated `most_similar` (Method will be removed in 4.0.0, use self.wv.most_similar() instead).\n",
      "  after removing the cwd from sys.path.\n"
     ]
    }
   ],
   "source": [
    "model = gensim.models.Word2Vec.load(model_file)\n",
    "movie_dic = dict(zip(list(test['UserID'][:5]),list(test['MovieID'])[:5]))\n",
    "for user_id,movie_id in movie_dic.items():\n",
    "    result_movie_lst = model.most_similar(str(movie_id))\n",
    "    print('用户',user_id, ': 推荐电影和相似度为： ')\n",
    "    for movie in result_movie_lst:\n",
    "        print('\\t',id_to_name[str(movie[0])],movie[1])\n",
    "    print(\"\\n\")"
   ]
  },
  {
   "cell_type": "markdown",
   "metadata": {},
   "source": [
    "#### 9、使用 tensorflow 实现 y=5x-1（15分）"
   ]
  },
  {
   "cell_type": "markdown",
   "metadata": {},
   "source": [
    "- 提示：假设用户输入x=1，则系统输出应为4\n",
    "- 要求：x 设计成用户输入，代码可以打印出对应的 y"
   ]
  },
  {
   "cell_type": "code",
   "execution_count": 19,
   "metadata": {},
   "outputs": [],
   "source": [
    "import tensorflow as tf\n",
    "def func(x):\n",
    "    y = tf.multiply(x, 5, name=None)\n",
    "    y = tf.add(y, -1)\n",
    "    #print(tf.cast(y,dtype='int32'))\n",
    "    tf.Session().run\n",
    "    print(y.eval())"
   ]
  },
  {
   "cell_type": "code",
   "execution_count": 20,
   "metadata": {},
   "outputs": [
    {
     "ename": "ValueError",
     "evalue": "Cannot evaluate tensor using `eval()`: No default session is registered. Use `with sess.as_default()` or pass an explicit session to `eval(session=sess)`",
     "output_type": "error",
     "traceback": [
      "\u001b[0;31m---------------------------------------------------------------------------\u001b[0m",
      "\u001b[0;31mValueError\u001b[0m                                Traceback (most recent call last)",
      "\u001b[0;32m<ipython-input-20-b523faf31d8e>\u001b[0m in \u001b[0;36m<module>\u001b[0;34m\u001b[0m\n\u001b[0;32m----> 1\u001b[0;31m \u001b[0mfunc\u001b[0m\u001b[0;34m(\u001b[0m\u001b[0;36m3\u001b[0m\u001b[0;34m)\u001b[0m\u001b[0;34m\u001b[0m\u001b[0m\n\u001b[0m",
      "\u001b[0;32m<ipython-input-19-4573715b9fb0>\u001b[0m in \u001b[0;36mfunc\u001b[0;34m(x)\u001b[0m\n\u001b[1;32m      4\u001b[0m     \u001b[0my\u001b[0m \u001b[0;34m=\u001b[0m \u001b[0mtf\u001b[0m\u001b[0;34m.\u001b[0m\u001b[0madd\u001b[0m\u001b[0;34m(\u001b[0m\u001b[0my\u001b[0m\u001b[0;34m,\u001b[0m \u001b[0;34m-\u001b[0m\u001b[0;36m1\u001b[0m\u001b[0;34m)\u001b[0m\u001b[0;34m\u001b[0m\u001b[0m\n\u001b[1;32m      5\u001b[0m     \u001b[0;31m#print(tf.cast(y,dtype='int32'))\u001b[0m\u001b[0;34m\u001b[0m\u001b[0;34m\u001b[0m\u001b[0m\n\u001b[0;32m----> 6\u001b[0;31m     \u001b[0mprint\u001b[0m\u001b[0;34m(\u001b[0m\u001b[0my\u001b[0m\u001b[0;34m.\u001b[0m\u001b[0meval\u001b[0m\u001b[0;34m(\u001b[0m\u001b[0;34m)\u001b[0m\u001b[0;34m)\u001b[0m\u001b[0;34m\u001b[0m\u001b[0m\n\u001b[0m",
      "\u001b[0;32m/usr/local/lib/python3.5/dist-packages/tensorflow/python/framework/ops.py\u001b[0m in \u001b[0;36meval\u001b[0;34m(self, feed_dict, session)\u001b[0m\n\u001b[1;32m    693\u001b[0m \u001b[0;34m\u001b[0m\u001b[0m\n\u001b[1;32m    694\u001b[0m     \"\"\"\n\u001b[0;32m--> 695\u001b[0;31m     \u001b[0;32mreturn\u001b[0m \u001b[0m_eval_using_default_session\u001b[0m\u001b[0;34m(\u001b[0m\u001b[0mself\u001b[0m\u001b[0;34m,\u001b[0m \u001b[0mfeed_dict\u001b[0m\u001b[0;34m,\u001b[0m \u001b[0mself\u001b[0m\u001b[0;34m.\u001b[0m\u001b[0mgraph\u001b[0m\u001b[0;34m,\u001b[0m \u001b[0msession\u001b[0m\u001b[0;34m)\u001b[0m\u001b[0;34m\u001b[0m\u001b[0m\n\u001b[0m\u001b[1;32m    696\u001b[0m \u001b[0;34m\u001b[0m\u001b[0m\n\u001b[1;32m    697\u001b[0m \u001b[0;34m\u001b[0m\u001b[0m\n",
      "\u001b[0;32m/usr/local/lib/python3.5/dist-packages/tensorflow/python/framework/ops.py\u001b[0m in \u001b[0;36m_eval_using_default_session\u001b[0;34m(tensors, feed_dict, graph, session)\u001b[0m\n\u001b[1;32m   5165\u001b[0m     \u001b[0msession\u001b[0m \u001b[0;34m=\u001b[0m \u001b[0mget_default_session\u001b[0m\u001b[0;34m(\u001b[0m\u001b[0;34m)\u001b[0m\u001b[0;34m\u001b[0m\u001b[0m\n\u001b[1;32m   5166\u001b[0m     \u001b[0;32mif\u001b[0m \u001b[0msession\u001b[0m \u001b[0;32mis\u001b[0m \u001b[0;32mNone\u001b[0m\u001b[0;34m:\u001b[0m\u001b[0;34m\u001b[0m\u001b[0m\n\u001b[0;32m-> 5167\u001b[0;31m       raise ValueError(\"Cannot evaluate tensor using `eval()`: No default \"\n\u001b[0m\u001b[1;32m   5168\u001b[0m                        \u001b[0;34m\"session is registered. Use `with \"\u001b[0m\u001b[0;34m\u001b[0m\u001b[0m\n\u001b[1;32m   5169\u001b[0m                        \u001b[0;34m\"sess.as_default()` or pass an explicit session to \"\u001b[0m\u001b[0;34m\u001b[0m\u001b[0m\n",
      "\u001b[0;31mValueError\u001b[0m: Cannot evaluate tensor using `eval()`: No default session is registered. Use `with sess.as_default()` or pass an explicit session to `eval(session=sess)`"
     ]
    }
   ],
   "source": [
    "func(3)"
   ]
  },
  {
   "cell_type": "code",
   "execution_count": 79,
   "metadata": {},
   "outputs": [
    {
     "data": {
      "text/plain": [
       "<tf.Tensor 'Mul_1:0' shape=() dtype=int32>"
      ]
     },
     "execution_count": 79,
     "metadata": {},
     "output_type": "execute_result"
    }
   ],
   "source": [
    "tf.multiply(1, 5, name=None)"
   ]
  },
  {
   "cell_type": "code",
   "execution_count": null,
   "metadata": {},
   "outputs": [],
   "source": [
    "x_input_1d = tf.placeholder(dtype=tf.float32, shape=[])"
   ]
  },
  {
   "cell_type": "markdown",
   "metadata": {},
   "source": [
    "<font color=red>-1,没有设计用户输入，使用input函数即可</font>"
   ]
  },
  {
   "cell_type": "code",
   "execution_count": null,
   "metadata": {},
   "outputs": [],
   "source": [
    "import tensorflow as tf\n",
    "w = tf.constant(value=5,name='weight',dtype='int32')\n",
    "b = tf.constant(value=1,name='bias',dtype='int32')\n",
    "x = tf.placeholder(shape=None, dtype='int32', name='x')\n",
    "y = x*w-b\n",
    "with tf.Session()as sess:\n",
    "    res = sess.run(y, feed_dict={x:int(input('x = '))})\n",
    "    print('y =',res)"
   ]
  }
 ],
 "metadata": {
  "kernelspec": {
   "display_name": "Python 3",
   "language": "python",
   "name": "python3"
  },
  "language_info": {
   "codemirror_mode": {
    "name": "ipython",
    "version": 3
   },
   "file_extension": ".py",
   "mimetype": "text/x-python",
   "name": "python",
   "nbconvert_exporter": "python",
   "pygments_lexer": "ipython3",
   "version": "3.5.2"
  },
  "toc": {
   "base_numbering": 1,
   "nav_menu": {},
   "number_sections": false,
   "sideBar": true,
   "skip_h1_title": false,
   "title_cell": "Table of Contents",
   "title_sidebar": "Contents",
   "toc_cell": false,
   "toc_position": {},
   "toc_section_display": true,
   "toc_window_display": false
  }
 },
 "nbformat": 4,
 "nbformat_minor": 2
}
