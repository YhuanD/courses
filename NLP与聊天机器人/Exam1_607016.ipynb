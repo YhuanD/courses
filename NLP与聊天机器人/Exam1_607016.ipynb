{
 "cells": [
  {
   "cell_type": "markdown",
   "metadata": {},
   "source": [
    "### 1、总结下一般的英文文本预处理流程？"
   ]
  },
  {
   "cell_type": "markdown",
   "metadata": {},
   "source": [
    "答：1、分词 2、词干提取，词形归一 3、去除停止词"
   ]
  },
  {
   "cell_type": "markdown",
   "metadata": {},
   "source": [
    "### 2、写下TFIDF中TF和IDF分别代表什么含义？"
   ]
  },
  {
   "cell_type": "markdown",
   "metadata": {},
   "source": [
    "答：TF表示某词在该文档中出现的频率，TF(t) = t在该文档中出现的次数／文档中term总数；IDF表示逆文档词频，IDF=ln(文档总数／含有t的文档总数)"
   ]
  },
  {
   "cell_type": "markdown",
   "metadata": {},
   "source": [
    "### 3、计算TFIDF值？\n",
    "写下TFIDF计算公式，并手动或调库计算每句话中单词 \"first\" 的TFIDF值。？"
   ]
  },
  {
   "cell_type": "code",
   "execution_count": 1,
   "metadata": {},
   "outputs": [],
   "source": [
    "corpus = ['this is the first document.',\n",
    "      'this is the second second document.',\n",
    "      'and the third one.',\n",
    "      'is first the third document?']"
   ]
  },
  {
   "cell_type": "markdown",
   "metadata": {},
   "source": [
    "答：\n",
    "\n",
    "TF-IDF(Term Frequency-Inverse Document Frequency, 词频-逆文件频率)\n",
    "\n",
    "$TF-IDF=TF∗IDF$\n",
    "\n",
    "$TF_W = \\frac{在某一类中词条w出现的次数}{该类中所有的词条数目}$\n",
    "\n",
    "$IDF = log(\\frac{语料库的文档总数}{包含词条w的文档数+1})$"
   ]
  },
  {
   "cell_type": "code",
   "execution_count": 3,
   "metadata": {},
   "outputs": [
    {
     "name": "stdout",
     "output_type": "stream",
     "text": [
      "['and', 'document', 'first', 'is', 'one', 'second', 'the', 'third', 'this']\n",
      "{'this': 8, 'is': 3, 'the': 6, 'first': 2, 'document': 1, 'second': 5, 'and': 0, 'third': 7, 'one': 4}\n",
      "first in 'this is the first document.':  0.5164695651831305\n",
      "first in 'first the third document?':  0.5164695651831305\n"
     ]
    }
   ],
   "source": [
    "from sklearn.feature_extraction.text import TfidfVectorizer\n",
    "tfidf_vec = TfidfVectorizer()\n",
    "tfidf_matrix = tfidf_vec.fit_transform(corpus)\n",
    "print(tfidf_vec.get_feature_names())\n",
    "print(tfidf_vec.vocabulary_)\n",
    "num = tfidf_vec.vocabulary_['first']\n",
    "#print(tfidf_matrix.toarray())\n",
    "print(\"first in 'this is the first document.': \",tfidf_matrix.toarray()[0][num])\n",
    "print(\"first in 'first the third document?': \",tfidf_matrix.toarray()[3][num])"
   ]
  },
  {
   "cell_type": "markdown",
   "metadata": {},
   "source": [
    "### 4、文本有哪些向量表示方法？"
   ]
  },
  {
   "cell_type": "markdown",
   "metadata": {},
   "source": [
    "答；one-hot, bag of words, bi-gram, n-gram, tfidf等。"
   ]
  },
  {
   "cell_type": "markdown",
   "metadata": {},
   "source": [
    "### 5、文本格式的数据是怎么处理成CNN网络需要的输入格式的？"
   ]
  },
  {
   "cell_type": "markdown",
   "metadata": {},
   "source": [
    "答：将其转化为二维矩阵表示，通常使用word2vec、glove等word embedding实现。"
   ]
  },
  {
   "cell_type": "markdown",
   "metadata": {},
   "source": [
    "### 6、LSTM三个门的作用分别是什么？"
   ]
  },
  {
   "cell_type": "markdown",
   "metadata": {},
   "source": [
    "答：忘记门：决定我们该忘记什么信息；记忆门：哪些该记住；更新门：把老cell state更新为新cell state"
   ]
  },
  {
   "cell_type": "markdown",
   "metadata": {},
   "source": [
    "### 7、基于专家系统或知识网络的chatbot一般属于下面哪种分类？\n",
    "\n",
    "A Retrieval-based model\n",
    "\n",
    "B Generative model\n",
    "\n",
    "C 以上都不是"
   ]
  },
  {
   "cell_type": "markdown",
   "metadata": {},
   "source": [
    "答：A"
   ]
  },
  {
   "cell_type": "markdown",
   "metadata": {},
   "source": [
    "### 8、开放域的chatbot是否可以用 Retrieval-based model 方法实现？\n",
    "\n",
    "A 能\n",
    "\n",
    "B 不能\n",
    "\n",
    "C 不确定"
   ]
  },
  {
   "cell_type": "markdown",
   "metadata": {},
   "source": [
    "答：B"
   ]
  },
  {
   "cell_type": "markdown",
   "metadata": {},
   "source": [
    "### 9、简答题：VQA(视觉问答)是什么？它的输入和输出是什么？"
   ]
  },
  {
   "cell_type": "markdown",
   "metadata": {},
   "source": [
    "答：一个VQA系统以一张图片和一个关于这张图片形式自由、开放式的自然语言问题作为输入，以生成一条自然语言答案作为输出。简单来说，VQA就是给定的图片进行问答。"
   ]
  },
  {
   "cell_type": "markdown",
   "metadata": {},
   "source": [
    "### 10、简答题：VQA 基本建模方法？"
   ]
  },
  {
   "cell_type": "markdown",
   "metadata": {},
   "source": [
    "答：第一步，生成答案； 第二步，处理输入源数据：图片，文字；第三步，选取VQA模型"
   ]
  }
 ],
 "metadata": {
  "kernelspec": {
   "display_name": "Python 3",
   "language": "python",
   "name": "python3"
  },
  "language_info": {
   "codemirror_mode": {
    "name": "ipython",
    "version": 3
   },
   "file_extension": ".py",
   "mimetype": "text/x-python",
   "name": "python",
   "nbconvert_exporter": "python",
   "pygments_lexer": "ipython3",
   "version": "3.6.1"
  }
 },
 "nbformat": 4,
 "nbformat_minor": 2
}
